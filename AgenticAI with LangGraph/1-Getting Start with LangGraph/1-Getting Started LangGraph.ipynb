{
 "cells": [
  {
   "cell_type": "markdown",
   "id": "73327311",
   "metadata": {},
   "source": [
    "# Introduction to LangGraph"
   ]
  },
  {
   "cell_type": "markdown",
   "id": "cf08a0d2",
   "metadata": {},
   "source": [
    "* LangGraph  is a library for building stateful, multi-actor application with LLMs, used to create agent and multi-agent workflows\n",
    "* LangGraph provides fine-grained control over both the flow and state of agentic application \n",
    "* **Memory** : LangGraph persists arbitrary aspects of application's state, supporting memory of conversations and other updates within and across user interactions \n",
    "* **Human in the loop** : Because state is checkpointed, execution can be interrupted and resumed, allowing for decisions, validations, and corrections at key stages via human input \n",
    "\n",
    "* components \n",
    "    1. Nodes\n",
    "    2. Edges "
   ]
  }
 ],
 "metadata": {
  "language_info": {
   "name": "python"
  }
 },
 "nbformat": 4,
 "nbformat_minor": 5
}
